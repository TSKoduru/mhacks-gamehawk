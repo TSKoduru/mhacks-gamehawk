{
  "cells": [
    {
      "cell_type": "markdown",
      "metadata": {
        "id": "W94jywA_7nc8"
      },
      "source": [
        "## Import Libraries"
      ]
    },
    {
      "cell_type": "code",
      "execution_count": null,
      "metadata": {
        "id": "sBMWyOb06Yz8"
      },
      "outputs": [],
      "source": [
        "import numpy as np \n",
        "import pandas as pd \n",
        "import matplotlib.pyplot as plt\n",
        "import seaborn as sns\n",
        "import os\n",
        "from sklearn.preprocessing import MinMaxScaler\n",
        "import tensorflow as tf\n",
        "from keras.models import Sequential\n",
        "from keras.layers import Dense\n",
        "from keras.layers import Dropout\n",
        "from keras.layers import Flatten\n",
        "from keras.layers.convolutional import Conv2D\n",
        "from keras.layers.convolutional import MaxPooling2D\n",
        "from keras import backend as K\n",
        "from keras.utils import np_utils\n",
        "from sklearn.model_selection import train_test_split"
      ]
    },
    {
      "cell_type": "code",
      "execution_count": null,
      "metadata": {
        "id": "ZFx8yIsZ6hwP"
      },
      "outputs": [],
      "source": [
        "# Ignores warning messages \n",
        "import warnings\n",
        "warnings.filterwarnings('ignore') "
      ]
    },
    {
      "cell_type": "code",
      "execution_count": null,
      "metadata": {
        "id": "T01Fxtbw7rEH"
      },
      "outputs": [],
      "source": [
        "sns.set()"
      ]
    },
    {
      "cell_type": "code",
      "execution_count": null,
      "metadata": {
        "id": "zfh0OV7c71uL"
      },
      "outputs": [],
      "source": [
        "dataset = pd.read_csv(\"handwritten_data_785.csv\").astype('float32')"
      ]
    },
    {
      "cell_type": "code",
      "execution_count": null,
      "metadata": {
        "id": "SoUYoiQi77zi"
      },
      "outputs": [],
      "source": [
        "dataset.rename(columns={'0':'label'}, inplace=True)"
      ]
    },
    {
      "cell_type": "code",
      "execution_count": null,
      "metadata": {
        "id": "c4zJW3rA7-MG"
      },
      "outputs": [],
      "source": [
        "# Splits the data into X - input data and y - output data\n",
        "X = dataset.drop('label',axis = 1)\n",
        "y = dataset['label']"
      ]
    },
    {
      "cell_type": "code",
      "execution_count": null,
      "metadata": {
        "id": "vtSbKgC68Gcq"
      },
      "outputs": [],
      "source": [
        "import string"
      ]
    },
    {
      "cell_type": "code",
      "execution_count": null,
      "metadata": {
        "id": "iziksSXG8Ihy"
      },
      "outputs": [],
      "source": [
        "# Change label to alphabets\n",
        "alphabets_map = dict(enumerate(string.ascii_uppercase, 0))\n",
        "dataset['label'] = dataset['label'].map(alphabets_map)"
      ]
    },
    {
      "cell_type": "markdown",
      "metadata": {
        "id": "jiDQA1GB8Ofz"
      },
      "source": [
        "## Data Exploration"
      ]
    },
    {
      "cell_type": "code",
      "execution_count": null,
      "metadata": {
        "colab": {
          "base_uri": "https://localhost:8080/"
        },
        "id": "rJX2lnDw8Ljp",
        "outputId": "9e8e729b-7e08-4928-c20d-64193bc5296b"
      },
      "outputs": [],
      "source": [
        "print(X.info())"
      ]
    },
    {
      "cell_type": "code",
      "execution_count": null,
      "metadata": {
        "colab": {
          "base_uri": "https://localhost:8080/",
          "height": 235
        },
        "id": "OG-SzuXA8RRb",
        "outputId": "3fb3a5ec-866c-4449-e768-c4b59e8b6c40"
      },
      "outputs": [],
      "source": [
        "X.head(5)"
      ]
    },
    {
      "cell_type": "code",
      "execution_count": null,
      "metadata": {
        "id": "kRMAJ_Ep8YKk"
      },
      "outputs": [],
      "source": [
        "from sklearn.utils import shuffle\n",
        "X_shuffled = shuffle(X)"
      ]
    },
    {
      "cell_type": "code",
      "execution_count": null,
      "metadata": {
        "colab": {
          "base_uri": "https://localhost:8080/",
          "height": 838
        },
        "id": "vsZrZLtT8ad2",
        "outputId": "6dcaeaca-cfe8-48e4-c413-2955c989bf59"
      },
      "outputs": [],
      "source": [
        "plt.figure(figsize = (10,10))\n",
        "row, columns = 4, 4\n",
        "for i in range(16):  \n",
        "    plt.subplot(columns, row, i+1)\n",
        "    plt.imshow(X_shuffled.iloc[i].values.reshape(28,28),interpolation='nearest', cmap='Greys')\n",
        "plt.show()"
      ]
    },
    {
      "cell_type": "code",
      "execution_count": null,
      "metadata": {
        "colab": {
          "base_uri": "https://localhost:8080/",
          "height": 881
        },
        "id": "qjIwaOQa8cqD",
        "outputId": "8a8ea22b-607c-4e2c-d3ca-1121f46202ae"
      },
      "outputs": [],
      "source": [
        "# Bar chart to show number of images per alphabet in training dataset\n",
        "\n",
        "label_size = dataset.groupby('label').size()\n",
        "label_size.plot.barh(figsize=(10,10))\n",
        "plt.xlabel(\"Number of images\")\n",
        "plt.ylabel(\"Alphabets\")\n",
        "plt.title(\"Number of images per alphabet\")\n",
        "plt.show()"
      ]
    },
    {
      "cell_type": "code",
      "execution_count": null,
      "metadata": {
        "colab": {
          "base_uri": "https://localhost:8080/"
        },
        "id": "AKXB6KYi8eso",
        "outputId": "8480cdbf-e186-4fb5-c844-04b7b97eadad"
      },
      "outputs": [],
      "source": [
        "print(\"We have very less number of images for F, I and V \")\n",
        "print(\"F count:\", label_size['F'])\n",
        "print(\"I count:\", label_size['I'])\n",
        "print(\"V count:\", label_size['V'])"
      ]
    },
    {
      "cell_type": "markdown",
      "metadata": {
        "id": "aPYhJbHL8iuX"
      },
      "source": [
        "## Data Preparation"
      ]
    },
    {
      "cell_type": "code",
      "execution_count": null,
      "metadata": {
        "id": "mfFpG5_C8gsR"
      },
      "outputs": [],
      "source": [
        "# Splits the data \n",
        "\n",
        "X_train, XX, y_train, yy = train_test_split(X, y, test_size=0.4)\n",
        "X_valid, X_test, y_valid, y_test = train_test_split(XX, yy, test_size=0.6, shuffle=True)"
      ]
    },
    {
      "cell_type": "code",
      "execution_count": null,
      "metadata": {
        "colab": {
          "base_uri": "https://localhost:8080/"
        },
        "id": "DZgxWqck8lQK",
        "outputId": "fc6d9a9c-ffa8-440f-b98f-11244d45e32d"
      },
      "outputs": [],
      "source": [
        "print('X_train shape: {}'.format(X_train.shape))\n",
        "print('y_train shape: {}'.format(y_train.shape))\n",
        "print('X_valid shape: {}'.format(X_valid.shape))\n",
        "print('y_valid shape: {}'.format(y_valid.shape))\n",
        "print('X_test shape: {}'.format(X_test.shape))\n",
        "print('y_test shape: {}'.format(y_test.shape))"
      ]
    },
    {
      "cell_type": "code",
      "execution_count": null,
      "metadata": {
        "id": "TTNeVulQ8nBl"
      },
      "outputs": [],
      "source": [
        "# Scales the data\n",
        "\n",
        "standard_scaler = MinMaxScaler()\n",
        "standard_scaler.fit(X_train)\n",
        "\n",
        "X_train = standard_scaler.transform(X_train)\n",
        "X_valid = standard_scaler.transform(X_valid)\n",
        "X_test = standard_scaler.transform(X_test)"
      ]
    },
    {
      "cell_type": "code",
      "execution_count": null,
      "metadata": {
        "colab": {
          "base_uri": "https://localhost:8080/",
          "height": 838
        },
        "id": "mzwPTUpo8o1w",
        "outputId": "b7b6ad9f-0202-4b0b-c5fa-8669efe92801"
      },
      "outputs": [],
      "source": [
        "# Data after scaling\n",
        "\n",
        "X_shuffled = shuffle(X_train)\n",
        "\n",
        "plt.figure(figsize = (10,10))\n",
        "row, colums = 4, 4\n",
        "for i in range(16):  \n",
        "    plt.subplot(colums, row, i+1)\n",
        "    plt.imshow(X_shuffled[i].reshape(28,28),interpolation='nearest', cmap='Greys')\n",
        "plt.show()"
      ]
    },
    {
      "cell_type": "code",
      "execution_count": null,
      "metadata": {
        "id": "NryPrFqi81zz"
      },
      "outputs": [],
      "source": [
        "X_train = X_train.reshape(X_train.shape[0], 28, 28, 1).astype('float32')\n",
        "X_valid = X_valid.reshape(X_valid.shape[0], 28, 28, 1).astype('float32')\n",
        "X_test = X_test.reshape(X_test.shape[0], 28, 28, 1).astype('float32')\n",
        "\n",
        "y_train = np_utils.to_categorical(y_train)\n",
        "y_valid = np_utils.to_categorical(y_valid)\n",
        "y_test = np_utils.to_categorical(y_test)"
      ]
    },
    {
      "cell_type": "markdown",
      "metadata": {
        "id": "0TIjMhXB85jw"
      },
      "source": [
        "## **Build the Model**"
      ]
    },
    {
      "cell_type": "code",
      "execution_count": null,
      "metadata": {
        "id": "clQ2dJ-Q83uR"
      },
      "outputs": [],
      "source": [
        "model = Sequential([Conv2D(32, (5, 5), input_shape=(28, 28, 1), activation='relu'),\n",
        "                  MaxPooling2D(pool_size=(2, 2)),\n",
        "                  Dropout(0.3),\n",
        "                  Flatten(),\n",
        "                  Dense(128, activation='relu'),\n",
        "                  Dense(len(y.unique()), activation='softmax')])"
      ]
    },
    {
      "cell_type": "code",
      "execution_count": null,
      "metadata": {
        "id": "gJlLxXSL8-Yq"
      },
      "outputs": [],
      "source": [
        "model.compile(loss='categorical_crossentropy', optimizer='adam', metrics=['accuracy'])"
      ]
    },
    {
      "cell_type": "code",
      "execution_count": null,
      "metadata": {
        "colab": {
          "base_uri": "https://localhost:8080/"
        },
        "id": "c-W4AF_59BeC",
        "outputId": "f22f372e-e4d3-4db4-ada7-c47ba1810528"
      },
      "outputs": [],
      "source": [
        "detail = model.fit(X_train, y_train, validation_data=(X_valid, y_valid), epochs=4, batch_size=128, verbose=2)"
      ]
    },
    {
      "cell_type": "code",
      "execution_count": null,
      "metadata": {
        "colab": {
          "base_uri": "https://localhost:8080/",
          "height": 480
        },
        "id": "OqmuPLpD9DgG",
        "outputId": "19f7e9b5-ccbe-4160-d3ca-d86a54cad218"
      },
      "outputs": [],
      "source": [
        "plt.plot(detail.history['loss'])\n",
        "plt.plot(detail.history['val_loss'])\n",
        "plt.title('Model loss')\n",
        "plt.ylabel('Loss')\n",
        "plt.xlabel('Epoch')\n",
        "plt.legend(['Train', 'Test'], loc='upper left')\n",
        "plt.show()"
      ]
    },
    {
      "cell_type": "code",
      "execution_count": null,
      "metadata": {
        "colab": {
          "base_uri": "https://localhost:8080/"
        },
        "id": "RRMSJyPY9GKi",
        "outputId": "1ac5a566-c7f2-4074-9d72-0871121a2c26"
      },
      "outputs": [],
      "source": [
        "scores = model.evaluate(X_test,y_test, verbose=0)\n",
        "print(\"CNN Score:\",scores[1])"
      ]
    },
    {
      "cell_type": "code",
      "execution_count": null,
      "metadata": {
        "id": "-Tfb7tQi9Ifq"
      },
      "outputs": [],
      "source": [
        "model.save('ocr_model.h5')"
      ]
    },
    {
      "cell_type": "code",
      "execution_count": null,
      "metadata": {
        "id": "tL8tYqbZ9ZkZ"
      },
      "outputs": [],
      "source": [
        "from keras.models import load_model\n",
        "from google.colab.patches import cv2_imshow\n",
        "import cv2\n",
        "import os\n",
        "\n",
        "def load_ocr_model(model_path):\n",
        "    # Loads the pre-trained OCR model\n",
        "    model = load_model(model_path)\n",
        "    return model\n",
        "\n",
        "def preprocess_image(img):\n",
        "    # Converts the image to grayscale, resize to 28x28, and invert colors\n",
        "    array = cv2.bitwise_not(cv2.resize(cv2.cvtColor(img, cv2.COLOR_BGR2GRAY), (28, 28), interpolation=cv2.INTER_AREA))\n",
        "\n",
        "    # Normalizes pixel values\n",
        "    array = array.reshape(1, 28, 28, 1).astype('float32') / 255\n",
        "\n",
        "    return array\n",
        "\n",
        "def predict_from_folder(model, folder_path):\n",
        "    for filename in os.listdir(folder_path):\n",
        "        if filename.endswith('.jpg') or filename.endswith('.png'):\n",
        "            # Loads the image\n",
        "            image_path = os.path.join(folder_path, filename)\n",
        "            img = cv2.imread(image_path)\n",
        "\n",
        "            array = preprocess_image(img)\n",
        "\n",
        "            prediction = model.predict(array)\n",
        "\n",
        "            print(filename, chr(prediction.argmax() + 65))\n",
        "            cv2_imshow(img)"
      ]
    },
    {
      "cell_type": "code",
      "execution_count": null,
      "metadata": {
        "colab": {
          "base_uri": "https://localhost:8080/",
          "height": 1000
        },
        "id": "Z5r6HA5k9cAd",
        "outputId": "0cd9a9a2-6984-4408-8eaf-381589a4d948"
      },
      "outputs": [],
      "source": [
        "model = load_ocr_model('ocr_model.h5')\n"
      ]
    },
    {
      "cell_type": "code",
      "execution_count": null,
      "metadata": {
        "id": "5IV4veHl9m4S"
      },
      "outputs": [],
      "source": []
    }
  ],
  "metadata": {
    "colab": {
      "provenance": []
    },
    "kernelspec": {
      "display_name": "Python 3",
      "name": "python3"
    },
    "language_info": {
      "name": "python"
    }
  },
  "nbformat": 4,
  "nbformat_minor": 0
}
